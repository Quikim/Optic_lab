{
 "cells": [
  {
   "cell_type": "markdown",
   "metadata": {},
   "source": [
    "<center><h2> Matrix transfert method step by step based on Spectroscopic Ellipsometry (H. Fujiwara)</h2></center>\n",
    "\n",
    "Here is a step by step demonstration of the matrix transfert method using Berreman's formalism for an anisotropic layer on an isotropic substrate to calculate the ellipsometric matrices psi and delta. The example is based on the Matrix transfert method as illustrated in section 6.4.2 of the book by H.Fujiwara, Spectroscopic Ellipsometry (John Wiley & Sons, Ltd, 2007). More information can be found on this method in section 6.3"
   ]
  },
  {
   "cell_type": "code",
   "execution_count": 46,
   "metadata": {},
   "outputs": [
    {
     "data": {
      "text/plain": [
       "matrix([[ 4.5625    +0.j, -0.5625    +0.j,  0.79549513+0.j],\n",
       "        [-0.5625    +0.j,  4.5625    +0.j, -0.79549513+0.j],\n",
       "        [ 0.79549513+0.j, -0.79549513+0.j,  5.125     +0.j]])"
      ]
     },
     "execution_count": 46,
     "metadata": {},
     "output_type": "execute_result"
    }
   ],
   "source": [
    "from __future__ import print_function\n",
    "from ipywidgets import interact, interactive, fixed, interact_manual\n",
    "import ipywidgets as widgets\n",
    "import numpy as np\n",
    "from scipy.optimize import leastsq\n",
    "import math\n",
    "import matplotlib.pyplot as plt\n",
    "%matplotlib inline\n",
    "\n",
    "#----Various constant definitions----#\n",
    "c=299792458 #speed of light\n",
    "lam=619.92e-9#definition of the wavelength array in nm\n",
    "omega=2*c*math.pi/lam #definition of the angular frequency array\n",
    "theta_i=math.radians(70)#Incidence angle\n",
    "d=1000e-10#Thickness of the layer in m\n",
    "\n",
    "#Definition of the complex refractive index of the substrate\n",
    "nsub=3.898\n",
    "n_i=1\n",
    "ksub=0.016\n",
    "Nsub=nsub+ksub*1j\n",
    "\n",
    "#Definition of the dielectric matrix of the anisotropic layer\n",
    "nx=ny=2.0 \n",
    "nz=2.5\n",
    "kx=ky=kz=0\n",
    "epsx=nx**2-kx**2+1j*(2*nx*kx)\n",
    "epsy=ny**2-ky**2+1j*(2*ny*ky)\n",
    "epsz=nz**2-kz**2+1j*(2*nz*kz)\n",
    "epsp =np.matrix([[epsx,0,0],[0, epsy,0],[0, 0,epsz]])\n",
    "\n",
    "#----Definition of the Euler angles----#\n",
    "phi_E=math.radians(45)\n",
    "theta_E=math.radians(45)\n",
    "psi_E=math.radians(0)\n",
    "\n",
    "#Definition of coefficients for the Euler matrix calculation\n",
    "c1=np.cos(phi_E)\n",
    "c2=np.cos(theta_E)\n",
    "c3=np.cos(psi_E)\n",
    "s1=np.sin(phi_E)\n",
    "s2=np.sin(theta_E)\n",
    "s3=np.sin(psi_E)\n",
    "Euler=np.matrix([[c1*c3-(c2*s1*s3),-c1*s3-(c2*c3*s1),s1*s2],\n",
    "        [c3*s1+(c1*c2*s3),c1*c2*c3-(s1*s3),-c1*s2],\n",
    "        [s2*s3, c3*s2,c2]])\n",
    "\n",
    "#Computation of the dielectric tensor given the euler angle of the thin film\n",
    "eps=np.dot(np.dot(Euler,epsp),Euler.transpose())\n",
    "\n",
    "eps"
   ]
  },
  {
   "cell_type": "code",
   "execution_count": 45,
   "metadata": {},
   "outputs": [
    {
     "data": {
      "text/plain": [
       "matrix([[-0.35178828-5.71947547e-02j,  0.09057131-9.38065178e-04j,\n",
       "          0.03336196+4.37442098e-02j,  0.05608777-3.97092737e-01j],\n",
       "        [ 0.10420181+7.95632408e-02j, -0.32602991-1.14480661e-02j,\n",
       "          0.00372234+5.01675329e-01j, -0.03336196-4.37442098e-02j],\n",
       "        [ 0.16165901-1.44611770e-02j, -0.01660869+1.75314887e+00j,\n",
       "         -0.32602991-1.14480661e-02j, -0.09057131+9.38065178e-04j],\n",
       "        [ 0.3001355 -2.12045205e+00j, -0.16165901+1.44611770e-02j,\n",
       "         -0.10420181-7.95632408e-02j, -0.35178828-5.71947547e-02j]])"
      ]
     },
     "execution_count": 45,
     "metadata": {},
     "output_type": "execute_result"
    }
   ],
   "source": [
    "#Computation of the partial transfert matrix\n",
    "def Ti():\n",
    "    Kxx=n_i*np.sin(theta_i) \n",
    "    #Calculus of the delta matrix#\n",
    "    delta=np.matrix([[-Kxx*(eps[2,0]/eps[2,2]),-Kxx*(eps[2,1]/eps[2,2]),0,1-(Kxx*Kxx/eps[2,2])],\n",
    "                  [0,0,-1,0],\n",
    "                  [(eps[1,2]*eps[2,0]/eps[2,2])-eps[1,0],Kxx*Kxx-eps[1,1]+(eps[1,2]*eps[2,1]/eps[2,2]),0,(Kxx*eps[1,2]/eps[2,2])],\n",
    "                  [(-eps[0,2]*eps[2,0]/eps[2,2])+eps[0,0],-(eps[0,2]*eps[2,1]/eps[2,2])+eps[0,1],0,(-Kxx*eps[0,2]/eps[2,2])]]) \n",
    "    #Calculus of the eigenvalues matrix#\n",
    "    q=np.linalg.eig(delta)[0] \n",
    "    \n",
    "    beta_0=-q[1]*q[2]*q[3]*np.exp(-d*1j*q[0]*omega/c)/((q[0]-q[1])*(q[0]-q[2])*(q[0]-q[3]))-q[2]*q[3]*q[0]*np.exp(-d*1j*q[1]*omega/c)/((q[1]-q[2])*(q[1]-q[3])*(q[1]-q[0]))-q[3]*q[0]*q[1]*np.exp(-d*1j*q[2]*omega/c)/((q[2]-q[3])*(q[2]-q[0])*(q[2]-q[1]))-q[0]*q[1]*q[2]*np.exp(-d*1j*q[3]*omega/c)/((q[3]-q[0])*(q[3]-q[1])*(q[3]-q[2])) \n",
    "\n",
    "    beta_1=((q[1]*q[2])+(q[1]*q[3])+(q[2]*q[3]))*np.exp(-d*1j*q[0]*omega/c)/((q[0]-q[1])*(q[0]-q[2])*(q[0]-q[3]))+((q[2]*q[3])+(q[2]*q[0])+(q[3]*q[0]))*np.exp(-d*1j*q[1]*omega/c)/((q[1]-q[2])*(q[1]-q[3])*(q[1]-q[0]))+((q[3]*q[0])+(q[3]*q[1])+(q[0]*q[1]))*np.exp(-d*1j*q[2]*omega/c)/((q[2]-q[3])*(q[2]-q[0])*(q[2]-q[1]))+((q[0]*q[1])+(q[0]*q[2])+(q[1]*q[2]))*np.exp(-d*1j*q[3]*omega/c)/((q[3]-q[0])*(q[3]-q[1])*(q[3]-q[2])) \n",
    "\n",
    "    beta_2=-(q[1]+q[2]+q[3])*np.exp(-d*1j*q[0]*omega/c)/((q[0]-q[1])*(q[0]-q[2])*(q[0]-q[3]))-(q[2]+q[3]+q[0])*np.exp(-d*1j*q[1]*omega/c)/((q[1]-q[2])*(q[1]-q[3])*(q[1]-q[0]))-(q[3]+q[0]+q[1])*np.exp(-d*1j*q[2]*omega/c)/((q[2]-q[3])*(q[2]-q[0])*(q[2]-q[1]))-(q[0]+q[1]+q[2])*np.exp(-d*1j*q[3]*omega/c)/((q[3]-q[0])*(q[3]-q[1])*(q[3]-q[2])) \n",
    "\n",
    "    beta_3=np.exp(-d*1j*q[0]*omega/c)/((q[0]-q[1])*(q[0]-q[2])*(q[0]-q[3]))+np.exp(-d*1j*q[1]*omega/c)/((q[1]-q[2])*(q[1]-q[3])*(q[1]-q[0]))+np.exp(-d*1j*q[2]*omega/c)/((q[2]-q[3])*(q[2]-q[0])*(q[2]-q[1]))+np.exp(-d*1j*q[3]*omega/c)/((q[3]-q[0])*(q[3]-q[1])*(q[3]-q[2]))\n",
    "    Ti=beta_0*np.identity(4)+beta_1*delta+beta_2*np.dot(delta,delta)+beta_3*np.dot(delta,np.dot(delta,delta)) \n",
    "    return Ti\n",
    "Ti()"
   ]
  },
  {
   "cell_type": "code",
   "execution_count": 44,
   "metadata": {},
   "outputs": [
    {
     "data": {
      "text/plain": [
       "matrix([[-1.94445172-3.58878653j,  1.66698237-1.54852591j,\n",
       "          0.27265891-0.02967091j,  0.63028026-0.14783193j],\n",
       "        [ 1.61261075+1.67941887j, -1.98720122+3.43499744j,\n",
       "         -0.30089468-0.06413535j, -0.86073454-0.10045926j],\n",
       "        [ 0.06456899-0.08551493j,  0.03858481+0.09723339j,\n",
       "         -0.70946401-3.48600176j, -0.00308352-1.26560995j],\n",
       "        [ 0.16665999+0.40268499j, -0.5931318 -0.38548109j,\n",
       "         -0.36908616+1.19958362j, -1.6590775 +3.09488056j]])"
      ]
     },
     "execution_count": 44,
     "metadata": {},
     "output_type": "execute_result"
    }
   ],
   "source": [
    "#Computation of the partial transfert matrix\n",
    "def Tp():\n",
    "    nTi=Ti()\n",
    "    nt=Nsub\n",
    "    costheta_t=np.sqrt(1-(n_i*np.sin(theta_i)**2/(nt**2))) \n",
    "    Lt=np.matrix([[0,0,costheta_t,-costheta_t],[1,1,0,0],[-nt*costheta_t,nt*costheta_t,0,0],[0,0,nt,nt]]) \n",
    "    Li=1/2*np.matrix([[0,1,-1/(n_i*np.cos(theta_i)),0],[0,1,1/(n_i*np.cos(theta_i)),0],[1/np.cos(theta_i),0,0,n_i],[-1/np.cos(theta_i),0,0,n_i]]) \n",
    "    Tp=np.dot(Li,np.dot(nTi,Lt)) \n",
    "    return Tp\n",
    "Tp()"
   ]
  },
  {
   "cell_type": "code",
   "execution_count": 54,
   "metadata": {},
   "outputs": [
    {
     "data": {
      "text/plain": [
       "[[(-0.3106439496927664-0.1607400276220289j),\n",
       "  (-0.10665214015582612-0.0019272000962895618j)],\n",
       " [(0.04218588638242871-0.03589322282767148j),\n",
       "  (-0.5512905338559693+0.15074689671427677j)]]"
      ]
     },
     "execution_count": 54,
     "metadata": {},
     "output_type": "execute_result"
    }
   ],
   "source": [
    "def Jr():\n",
    "    T=Tp()\n",
    "    #Calculus of the Jones reflectance coefficients at the interface#\n",
    "    Rpp=(T[0,0]*T[3,2]-T[0,2]*T[3,0])/(T[0,0]*T[2,2]-T[0,2]*T[2,0]) \n",
    "    Rsp=(T[0,0]*T[1,2]-T[0,2]*T[1,0])/(T[0,0]*T[2,2]-T[0,2]*T[2,0]) \n",
    "    Rss=(T[1,0]*T[2,2]-T[1,2]*T[2,0])/(T[0,0]*T[2,2]-T[0,2]*T[2,0]) \n",
    "    Rps=(T[2,2]*T[3,0]-T[2,0]*T[3,2])/(T[0,0]*T[2,2]-T[0,2]*T[2,0]) \n",
    "    Jr=[[Rpp,Rps],[Rsp,Rss]]\n",
    "    return Jr\n",
    "\n",
    "def Jt():\n",
    "    T=Tp()\n",
    "    #Calculus of the Jones tansmittance coefficients at the interface#\n",
    "    Tss=T[2,2]/(T[0,0]*T[2,2]-T[0,2]*T[2,0]) \n",
    "    Tsp=-T[2,0]/(T[0,0]*T[2,2]-T[0,2]*T[2,0]) \n",
    "    Tps=-T[0,2]/(T[0,0]*T[2,2]-T[0,2]*T[2,0]) \n",
    "    Tpp=T[0,0]/(T[0,0]*T[2,2]-T[0,2]*T[2,0]) \n",
    "    Jt=[[Tpp,Tps],[Tsp,Tss]]\n",
    "    return Jt\n",
    "\n",
    "Jr()"
   ]
  },
  {
   "cell_type": "code",
   "execution_count": 50,
   "metadata": {},
   "outputs": [],
   "source": [
    "def psi():\n",
    "    J=Jr()\n",
    "    psi_pp=np.arctan2(np.absolute(J[0][0]), np.absolute(J[1][1]))* 180 / np.pi\n",
    "    psi_ps=np.arctan2(np.absolute(J[0][1]), np.absolute(J[1][1]))* 180 / np.pi\n",
    "    psi_sp=np.arctan2(np.absolute(J[1][0]), np.absolute(J[1][1]))* 180 / np.pi\n",
    "    return {'psi_pp':psi_pp,'psi_ps':psi_ps,'psi_sp':psi_sp}\n",
    "\n",
    "def delta():\n",
    "    J=Jr()\n",
    "    rp= J[0][0]\n",
    "    rs= J[1][1] \n",
    "    delta_pp=-np.angle(J[0][0]/J[1][1],deg=True)\n",
    "    delta_ps=-np.angle(J[0][1]/J[1][1],deg=True)\n",
    "    delta_sp=-np.angle(J[1][0]/J[1][1],deg=True)\n",
    "    return {'delta_pp':delta_pp,'delta_ps':delta_ps,'delta_sp':delta_sp}"
   ]
  },
  {
   "cell_type": "code",
   "execution_count": 51,
   "metadata": {},
   "outputs": [
    {
     "data": {
      "text/plain": [
       "{'psi_pp': 31.46598227397841,\n",
       " 'psi_ps': 10.571979130943616,\n",
       " 'psi_sp': 5.535483858110768}"
      ]
     },
     "execution_count": 51,
     "metadata": {},
     "output_type": "execute_result"
    }
   ],
   "source": [
    "psi()"
   ]
  },
  {
   "cell_type": "code",
   "execution_count": 52,
   "metadata": {},
   "outputs": [
    {
     "data": {
      "text/plain": [
       "{'delta_pp': -42.6522302523732,\n",
       " 'delta_ps': -16.328535512110204,\n",
       " 'delta_sp': -154.90102034710262}"
      ]
     },
     "execution_count": 52,
     "metadata": {},
     "output_type": "execute_result"
    }
   ],
   "source": [
    "delta()"
   ]
  },
  {
   "cell_type": "code",
   "execution_count": 53,
   "metadata": {},
   "outputs": [],
   "source": [
    "def Mjr():\n",
    "    nJr=Jr()\n",
    "    #Calculus of the reflected Mueller matrix from Jones matrix#\n",
    "    A=[[1,0,0,1],[-1,0,0,1],[0,1,1,0],[0,1j,-1j,0]]\n",
    "    Mjr=np.dot(A,np.dot(np.kron(nJr,np.conjugate(nJr)),np.linalg.inv(A)))\n",
    "    return Mjr\n",
    "\n",
    "def Mjt():\n",
    "    nJt=Jt()\n",
    "    #Calculus of the transmitted Mueller matrix from Jones matrix#\n",
    "    A=[[1,0,0,1],[-1,0,0,1],[0,1,1,0],[0,1j,-1j,0]]\n",
    "    Mjt=np.dot(A,np.dot(np.kron(nJt,np.conjugate(nJt)),np.linalg.inv(A)))\n",
    "    return Mjt\n",
    "\n",
    "def Mnjr():\n",
    "    #Calculus of the normalized reflected Mueller matrix \n",
    "    nMjr=Mjr()\n",
    "    Mnjr=nMjr/nMjr[0,0] \n",
    "    return Mnjr\n",
    "    \n",
    "def Mnjt():\n",
    "    #Calculus of the normalized transmited Mueller matrix \n",
    "    nMjt=Mjt()\n",
    "    Mnjt=nMjt/nMjt[0,0] \n",
    "    return Mnjt\n",
    "\n",
    "def Tft():\n",
    "    nJt=Jt()\n",
    "    ###Calcul of the transmittance including substrate contribution###\n",
    "    nt=Nsub\n",
    "    costheta_t=np.sqrt(1-(n_i*np.sin(theta_i)**2/(nt**2))) \n",
    "    \n",
    "    theta_1=np.arccos(costheta_t) \n",
    "    theta_2=np.arcsin(Nsub*np.sin(theta_1)/n_i) \n",
    "\n",
    "    Rbp=(n_i*np.cos(theta_1)-Nsub*np.cos(theta_2))/(Nsub*np.cos(theta_1)+n_i*np.cos(theta_2)) \n",
    "    Rbs=(Nsub*np.cos(theta_1)-n_i*np.cos(theta_2))/(Nsub*np.cos(theta_1)+n_i*np.cos(theta_2)) \n",
    "    Tbp=(2*Nsub*np.cos(theta_1))/(Nsub*np.cos(theta_2)+n_i*np.cos(theta_1)) \n",
    "    Tbs=(2*Nsub*np.cos(theta_1))/(Nsub*np.cos(theta_1)+n_i*np.cos(theta_2)) \n",
    "\n",
    "    Jf=np.matrix([[Tbp,0],[0,Tbs]]) \n",
    "    k0=omega/c\n",
    "    eps=np.matrix([[Nsub**2,0,0],[0, Nsub**2,0],[0, 0,Nsub**2]]) \n",
    "    Kxx=n_i*np.sin(theta_i) \n",
    "    q=np.sqrt(eps[0,0]-Kxx**2) \n",
    "    Jtsub=np.matrix([[np.exp(1j*k0*d2*q),0],[0,np.exp(1j*k0*d2*q)]]) \n",
    "    Tt=np.dot(Jf,np.dot(Jtsub,nJt)) \n",
    "    Tft=Tt[0,0]*np.conjugate(Tt[0,0]) \n",
    "    return Tft"
   ]
  },
  {
   "cell_type": "code",
   "execution_count": null,
   "metadata": {},
   "outputs": [],
   "source": []
  }
 ],
 "metadata": {
  "kernelspec": {
   "display_name": "Python 3",
   "language": "python",
   "name": "python3"
  },
  "language_info": {
   "codemirror_mode": {
    "name": "ipython",
    "version": 3
   },
   "file_extension": ".py",
   "mimetype": "text/x-python",
   "name": "python",
   "nbconvert_exporter": "python",
   "pygments_lexer": "ipython3",
   "version": "3.7.1"
  }
 },
 "nbformat": 4,
 "nbformat_minor": 2
}
